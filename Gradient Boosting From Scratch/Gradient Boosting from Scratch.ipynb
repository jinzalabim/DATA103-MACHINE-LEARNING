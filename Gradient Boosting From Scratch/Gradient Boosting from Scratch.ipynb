{
 "cells": [
  {
   "cell_type": "markdown",
   "metadata": {
    "id": "VlckTsAHs9lp"
   },
   "source": [
    "# PRELIMINARIES"
   ]
  },
  {
   "cell_type": "code",
   "execution_count": null,
   "metadata": {
    "id": "hhCSnXA0mhxL"
   },
   "outputs": [],
   "source": [
    "import pandas as pd\n",
    "import numpy as np\n",
    "import matplotlib.pyplot as plt\n",
    "import seaborn as sns\n",
    "from sklearn.model_selection import train_test_split\n",
    "from sklearn.preprocessing import StandardScaler, OneHotEncoder\n",
    "from sklearn.preprocessing import LabelEncoder\n",
    "from sklearn.compose import ColumnTransformer\n",
    "from sklearn.pipeline import Pipeline\n",
    "from sklearn.metrics import mean_squared_error, accuracy_score, r2_score\n",
    "from sklearn.tree import DecisionTreeRegressor\n",
    "from sklearn.datasets import make_regression, make_classification\n",
    "from sklearn.linear_model import LinearRegression\n",
    "from sklearn.linear_model import LogisticRegression"
   ]
  },
  {
   "cell_type": "code",
   "execution_count": null,
   "metadata": {
    "colab": {
     "base_uri": "https://localhost:8080/"
    },
    "id": "Ay5W-R_LqZwO",
    "outputId": "d28886a3-5dbb-4183-dbf9-78b3a2a93d2b"
   },
   "outputs": [
    {
     "name": "stdout",
     "output_type": "stream",
     "text": [
      "      id  gender   age  hypertension  heart_disease ever_married  \\\n",
      "0   9046    Male  67.0             0              1          Yes   \n",
      "1  51676  Female  61.0             0              0          Yes   \n",
      "2  31112    Male  80.0             0              1          Yes   \n",
      "3  60182  Female  49.0             0              0          Yes   \n",
      "4   1665  Female  79.0             1              0          Yes   \n",
      "\n",
      "       work_type Residence_type  avg_glucose_level   bmi   smoking_status  \\\n",
      "0        Private          Urban             228.69  36.6  formerly smoked   \n",
      "1  Self-employed          Rural             202.21   NaN     never smoked   \n",
      "2        Private          Rural             105.92  32.5     never smoked   \n",
      "3        Private          Urban             171.23  34.4           smokes   \n",
      "4  Self-employed          Rural             174.12  24.0     never smoked   \n",
      "\n",
      "   stroke  \n",
      "0       1  \n",
      "1       1  \n",
      "2       1  \n",
      "3       1  \n",
      "4       1  \n"
     ]
    }
   ],
   "source": [
    "# Loading the dataset\n",
    "import ssl\n",
    "\n",
    "# Ignore SSL certificate errors\n",
    "ssl._create_default_https_context = ssl._create_unverified_context\n",
    "\n",
    "df = pd.read_csv('https://raw.githubusercontent.com/jinzalabim/DATA103-Library/refs/heads/main/healthcare-dataset-stroke-data.csv')\n",
    "print(df.head())"
   ]
  },
  {
   "cell_type": "code",
   "execution_count": null,
   "metadata": {
    "colab": {
     "base_uri": "https://localhost:8080/"
    },
    "id": "cgguMMHEssUg",
    "outputId": "17cfe04c-1557-48d5-ab08-53073943ee60"
   },
   "outputs": [
    {
     "name": "stdout",
     "output_type": "stream",
     "text": [
      "<class 'pandas.core.frame.DataFrame'>\n",
      "RangeIndex: 5110 entries, 0 to 5109\n",
      "Data columns (total 12 columns):\n",
      " #   Column             Non-Null Count  Dtype  \n",
      "---  ------             --------------  -----  \n",
      " 0   id                 5110 non-null   int64  \n",
      " 1   gender             5110 non-null   object \n",
      " 2   age                5110 non-null   float64\n",
      " 3   hypertension       5110 non-null   int64  \n",
      " 4   heart_disease      5110 non-null   int64  \n",
      " 5   ever_married       5110 non-null   object \n",
      " 6   work_type          5110 non-null   object \n",
      " 7   Residence_type     5110 non-null   object \n",
      " 8   avg_glucose_level  5110 non-null   float64\n",
      " 9   bmi                4909 non-null   float64\n",
      " 10  smoking_status     5110 non-null   object \n",
      " 11  stroke             5110 non-null   int64  \n",
      "dtypes: float64(3), int64(4), object(5)\n",
      "memory usage: 479.2+ KB\n",
      "None\n",
      "                 id          age  hypertension  heart_disease  \\\n",
      "count   5110.000000  5110.000000   5110.000000    5110.000000   \n",
      "mean   36517.829354    43.226614      0.097456       0.054012   \n",
      "std    21161.721625    22.612647      0.296607       0.226063   \n",
      "min       67.000000     0.080000      0.000000       0.000000   \n",
      "25%    17741.250000    25.000000      0.000000       0.000000   \n",
      "50%    36932.000000    45.000000      0.000000       0.000000   \n",
      "75%    54682.000000    61.000000      0.000000       0.000000   \n",
      "max    72940.000000    82.000000      1.000000       1.000000   \n",
      "\n",
      "       avg_glucose_level          bmi       stroke  \n",
      "count        5110.000000  4909.000000  5110.000000  \n",
      "mean          106.147677    28.893237     0.048728  \n",
      "std            45.283560     7.854067     0.215320  \n",
      "min            55.120000    10.300000     0.000000  \n",
      "25%            77.245000    23.500000     0.000000  \n",
      "50%            91.885000    28.100000     0.000000  \n",
      "75%           114.090000    33.100000     0.000000  \n",
      "max           271.740000    97.600000     1.000000  \n"
     ]
    }
   ],
   "source": [
    "print(df.info())\n",
    "print(df.describe())"
   ]
  },
  {
   "cell_type": "code",
   "execution_count": null,
   "metadata": {
    "colab": {
     "base_uri": "https://localhost:8080/",
     "height": 460
    },
    "id": "Ry_LFWiD3atO",
    "outputId": "bdc97611-e65d-4e02-f1e5-c46056762927"
   },
   "outputs": [
    {
     "data": {
      "text/html": [
       "<div>\n",
       "<style scoped>\n",
       "    .dataframe tbody tr th:only-of-type {\n",
       "        vertical-align: middle;\n",
       "    }\n",
       "\n",
       "    .dataframe tbody tr th {\n",
       "        vertical-align: top;\n",
       "    }\n",
       "\n",
       "    .dataframe thead th {\n",
       "        text-align: right;\n",
       "    }\n",
       "</style>\n",
       "<table border=\"1\" class=\"dataframe\">\n",
       "  <thead>\n",
       "    <tr style=\"text-align: right;\">\n",
       "      <th></th>\n",
       "      <th>0</th>\n",
       "    </tr>\n",
       "  </thead>\n",
       "  <tbody>\n",
       "    <tr>\n",
       "      <th>id</th>\n",
       "      <td>0</td>\n",
       "    </tr>\n",
       "    <tr>\n",
       "      <th>gender</th>\n",
       "      <td>0</td>\n",
       "    </tr>\n",
       "    <tr>\n",
       "      <th>age</th>\n",
       "      <td>0</td>\n",
       "    </tr>\n",
       "    <tr>\n",
       "      <th>hypertension</th>\n",
       "      <td>0</td>\n",
       "    </tr>\n",
       "    <tr>\n",
       "      <th>heart_disease</th>\n",
       "      <td>0</td>\n",
       "    </tr>\n",
       "    <tr>\n",
       "      <th>ever_married</th>\n",
       "      <td>0</td>\n",
       "    </tr>\n",
       "    <tr>\n",
       "      <th>work_type</th>\n",
       "      <td>0</td>\n",
       "    </tr>\n",
       "    <tr>\n",
       "      <th>Residence_type</th>\n",
       "      <td>0</td>\n",
       "    </tr>\n",
       "    <tr>\n",
       "      <th>avg_glucose_level</th>\n",
       "      <td>0</td>\n",
       "    </tr>\n",
       "    <tr>\n",
       "      <th>bmi</th>\n",
       "      <td>201</td>\n",
       "    </tr>\n",
       "    <tr>\n",
       "      <th>smoking_status</th>\n",
       "      <td>0</td>\n",
       "    </tr>\n",
       "    <tr>\n",
       "      <th>stroke</th>\n",
       "      <td>0</td>\n",
       "    </tr>\n",
       "  </tbody>\n",
       "</table>\n",
       "</div><br><label><b>dtype:</b> int64</label>"
      ],
      "text/plain": [
       "id                     0\n",
       "gender                 0\n",
       "age                    0\n",
       "hypertension           0\n",
       "heart_disease          0\n",
       "ever_married           0\n",
       "work_type              0\n",
       "Residence_type         0\n",
       "avg_glucose_level      0\n",
       "bmi                  201\n",
       "smoking_status         0\n",
       "stroke                 0\n",
       "dtype: int64"
      ]
     },
     "execution_count": 4,
     "metadata": {},
     "output_type": "execute_result"
    }
   ],
   "source": [
    "df.isna().sum()"
   ]
  },
  {
   "cell_type": "markdown",
   "metadata": {
    "id": "14YhStKCtD6k"
   },
   "source": [
    "# DATA PREPROCESSING"
   ]
  },
  {
   "cell_type": "markdown",
   "metadata": {
    "id": "jBF_OpHYs0aZ"
   },
   "source": [
    "## Handle Missing Values"
   ]
  },
  {
   "cell_type": "code",
   "execution_count": null,
   "metadata": {
    "id": "z4wUdFqNs469"
   },
   "outputs": [],
   "source": [
    "# Fill missing values for numerical columns with mean\n",
    "df['bmi'] = df['bmi'].fillna(df['bmi'].mean())\n",
    "df['avg_glucose_level'] = df['avg_glucose_level'].fillna(df['avg_glucose_level'].mean())"
   ]
  },
  {
   "cell_type": "markdown",
   "metadata": {
    "id": "fmUZsMkT5cTr"
   },
   "source": [
    "## **Encoding the Variables**"
   ]
  },
  {
   "cell_type": "markdown",
   "metadata": {
    "id": "3MCrjxyi1Ktv"
   },
   "source": [
    "For smoking status, the data cleaning can get a bit tricky. There are 5 attributes: `formerly smoked`, `never smoked`, `smokes` or `Unknown`.\n",
    "\n",
    "Since formerly smoked and smokes can be group together, we can combine transform their values to become `smoked`. Now we have `smoked`, `never smoked`, and `Unknown`.\n",
    "\n",
    "Technically the value `Unknown` is equivalent to null so we want `unknown` to be changed into the most common value between `smoked` and `never smoked`  so replace unknown frequent value (**mode**). Then, `LabelEncoder` is used to convert categorical values ('`smoked`', '`never` smoked') into numerical values (1 and 0, respectively).\n"
   ]
  },
  {
   "cell_type": "code",
   "execution_count": null,
   "metadata": {
    "id": "-ydLsKX2tK5f"
   },
   "outputs": [],
   "source": [
    "# Replace 'formerly smoked' and 'smokes' with 'smoked'\n",
    "df['smoking_status'] = df['smoking_status'].replace(['formerly smoked', 'smokes'], 'smoked')\n",
    "\n",
    "# Calculate the mode of the remaining values ('smoked' and 'never smoked')\n",
    "mode_smoking_status = df['smoking_status'].mode()[0]\n",
    "\n",
    "# Replace 'Unknown' with the mode\n",
    "df['smoking_status'] = df['smoking_status'].replace('Unknown', mode_smoking_status)\n",
    "\n",
    "# Convert 'smoking_status' to numerical values using LabelEncoder\n",
    "label_encoder_smoke = LabelEncoder()\n",
    "df['smoking_status'] = label_encoder_smoke.fit_transform(df['smoking_status'])  # 1: smoked, 0: never smoked"
   ]
  },
  {
   "cell_type": "markdown",
   "metadata": {
    "id": "pJFPdlpl5ab1"
   },
   "source": [
    "We have an unconventional way of cleaning `work_type`. This is because of the attributes of the data. Since `Self-employed`, `Private`, and `Govt_jov` are basically just different categories of working people, we can just combine them to become the value `Employed.` For easier purposes of naming, let's also turn `Never_worked` to `Unemployed`. We also turn `children` to `Children`.\n",
    "\n",
    "After that, we encode them as Unemployed: 0, Employed: 1, and Children: 2."
   ]
  },
  {
   "cell_type": "code",
   "execution_count": null,
   "metadata": {
    "id": "NWG8oQ_85ZFa"
   },
   "outputs": [],
   "source": [
    "# Clean the 'work_type' column and Replace specific categories in 'work_type'\n",
    "df['work_type'] = df['work_type'].replace(['Self-employed', 'Private', 'Govt_job'], 'Employed')\n",
    "df['work_type'] = df['work_type'].replace('Never_worked', 'Unemployed')\n",
    "df['work_type'] = df['work_type'].replace('children', 'Children')\n",
    "\n",
    "# Encode the cleaned 'work_type' values\n",
    "work_type_mapping = {\n",
    "    'Unemployed': 0,\n",
    "    'Employed': 1,\n",
    "    'Children': 2\n",
    "}\n",
    "df['work_type'] = df['work_type'].map(work_type_mapping)\n"
   ]
  },
  {
   "cell_type": "code",
   "execution_count": null,
   "metadata": {
    "id": "dbaOyk8exRAb"
   },
   "outputs": [],
   "source": [
    "# Convert 'gender' to numerical values using LabelEncoder\n",
    "label_encoder_gender = LabelEncoder()\n",
    "df['gender'] = label_encoder_gender.fit_transform(df['gender'])"
   ]
  },
  {
   "cell_type": "code",
   "execution_count": null,
   "metadata": {
    "id": "lHSoE5e1yk0s"
   },
   "outputs": [],
   "source": [
    "# Convert marriage statuse to numerical values\n",
    "label_encoder_married = LabelEncoder()\n",
    "df['ever_married'] = label_encoder_married.fit_transform(df['ever_married']) #Married (Yes):1, Never Married (No):0"
   ]
  },
  {
   "cell_type": "code",
   "execution_count": null,
   "metadata": {
    "id": "hRJMUedI6mcI"
   },
   "outputs": [],
   "source": [
    "# Convert 'Residence_type' to numerical since it just has two options.\n",
    "df['Residence_type'] = LabelEncoder().fit_transform(df['Residence_type']) #Urban: 1, Rural: 0"
   ]
  },
  {
   "cell_type": "code",
   "execution_count": null,
   "metadata": {
    "colab": {
     "base_uri": "https://localhost:8080/",
     "height": 686
    },
    "id": "BX5N5x2G3Ccz",
    "outputId": "fdb6a971-d563-4cac-971b-f775da1fb746"
   },
   "outputs": [
    {
     "name": "stdout",
     "output_type": "stream",
     "text": [
      "      id  gender   age  hypertension  heart_disease  ever_married  work_type  \\\n",
      "0   9046       1  67.0             0              1             1          1   \n",
      "1  51676       0  61.0             0              0             1          1   \n",
      "2  31112       1  80.0             0              1             1          1   \n",
      "3  60182       0  49.0             0              0             1          1   \n",
      "4   1665       0  79.0             1              0             1          1   \n",
      "\n",
      "   Residence_type  avg_glucose_level        bmi  smoking_status  stroke  \n",
      "0               1             228.69  36.600000               1       1  \n",
      "1               0             202.21  28.893237               0       1  \n",
      "2               0             105.92  32.500000               0       1  \n",
      "3               1             171.23  34.400000               1       1  \n",
      "4               0             174.12  24.000000               0       1  \n"
     ]
    },
    {
     "data": {
      "text/html": [
       "<div>\n",
       "<style scoped>\n",
       "    .dataframe tbody tr th:only-of-type {\n",
       "        vertical-align: middle;\n",
       "    }\n",
       "\n",
       "    .dataframe tbody tr th {\n",
       "        vertical-align: top;\n",
       "    }\n",
       "\n",
       "    .dataframe thead th {\n",
       "        text-align: right;\n",
       "    }\n",
       "</style>\n",
       "<table border=\"1\" class=\"dataframe\">\n",
       "  <thead>\n",
       "    <tr style=\"text-align: right;\">\n",
       "      <th></th>\n",
       "      <th>0</th>\n",
       "    </tr>\n",
       "  </thead>\n",
       "  <tbody>\n",
       "    <tr>\n",
       "      <th>id</th>\n",
       "      <td>0</td>\n",
       "    </tr>\n",
       "    <tr>\n",
       "      <th>gender</th>\n",
       "      <td>0</td>\n",
       "    </tr>\n",
       "    <tr>\n",
       "      <th>age</th>\n",
       "      <td>0</td>\n",
       "    </tr>\n",
       "    <tr>\n",
       "      <th>hypertension</th>\n",
       "      <td>0</td>\n",
       "    </tr>\n",
       "    <tr>\n",
       "      <th>heart_disease</th>\n",
       "      <td>0</td>\n",
       "    </tr>\n",
       "    <tr>\n",
       "      <th>ever_married</th>\n",
       "      <td>0</td>\n",
       "    </tr>\n",
       "    <tr>\n",
       "      <th>work_type</th>\n",
       "      <td>0</td>\n",
       "    </tr>\n",
       "    <tr>\n",
       "      <th>Residence_type</th>\n",
       "      <td>0</td>\n",
       "    </tr>\n",
       "    <tr>\n",
       "      <th>avg_glucose_level</th>\n",
       "      <td>0</td>\n",
       "    </tr>\n",
       "    <tr>\n",
       "      <th>bmi</th>\n",
       "      <td>0</td>\n",
       "    </tr>\n",
       "    <tr>\n",
       "      <th>smoking_status</th>\n",
       "      <td>0</td>\n",
       "    </tr>\n",
       "    <tr>\n",
       "      <th>stroke</th>\n",
       "      <td>0</td>\n",
       "    </tr>\n",
       "  </tbody>\n",
       "</table>\n",
       "</div><br><label><b>dtype:</b> int64</label>"
      ],
      "text/plain": [
       "id                   0\n",
       "gender               0\n",
       "age                  0\n",
       "hypertension         0\n",
       "heart_disease        0\n",
       "ever_married         0\n",
       "work_type            0\n",
       "Residence_type       0\n",
       "avg_glucose_level    0\n",
       "bmi                  0\n",
       "smoking_status       0\n",
       "stroke               0\n",
       "dtype: int64"
      ]
     },
     "execution_count": 11,
     "metadata": {},
     "output_type": "execute_result"
    }
   ],
   "source": [
    "print(df.head())\n",
    "df.isna().sum()"
   ]
  },
  {
   "cell_type": "code",
   "execution_count": null,
   "metadata": {
    "id": "HdDKjX4htPDE"
   },
   "outputs": [],
   "source": [
    "# Identify categorical and numerical columns\n",
    "categorical_cols = ['ever_married', 'work_type', 'Residence_type', 'smoking_status']\n",
    "numerical_cols = ['age', 'gender', 'hypertension', 'heart_disease', 'avg_glucose_level', 'bmi']"
   ]
  },
  {
   "cell_type": "markdown",
   "metadata": {
    "id": "b5o1w3m6TVfe"
   },
   "source": [
    "Lists of categorical and numerical columns are created to help define the preprocessing steps. `ColumnTransformer` is used to preprocess the data: numerical columns are scaled using `StandardScaler`, and categorical columns are one-hot encoded, dropping the first category to avoid multicollinearity."
   ]
  },
  {
   "cell_type": "code",
   "execution_count": null,
   "metadata": {
    "id": "tWU294BttSEM"
   },
   "outputs": [],
   "source": [
    "# Create a ColumnTransformer for preprocessing\n",
    "preprocessor = ColumnTransformer(\n",
    "    transformers=[\n",
    "        ('num', StandardScaler(), numerical_cols),  # Scale numerical features\n",
    "        ('cat', OneHotEncoder(handle_unknown='ignore', drop='first'), categorical_cols)  # One-hot encode categorical features\n",
    "    ])"
   ]
  },
  {
   "cell_type": "markdown",
   "metadata": {
    "id": "qQXcF_3OtYyG"
   },
   "source": [
    "## Split the Data"
   ]
  },
  {
   "cell_type": "markdown",
   "metadata": {
    "id": "Sn_pwsQ8U2-k"
   },
   "source": [
    "X contains the feature columns (everything except id and stroke), and y is the target variable (stroke) and we split the data into 80/20 ratio using `train_test_split`.\n"
   ]
  },
  {
   "cell_type": "code",
   "execution_count": null,
   "metadata": {
    "id": "a49t0SkNtfli"
   },
   "outputs": [],
   "source": [
    "# Define features and target variable\n",
    "X = df.drop(columns=['id', 'stroke'])  # Drop id and target column\n",
    "y = df['stroke']"
   ]
  },
  {
   "cell_type": "code",
   "execution_count": null,
   "metadata": {
    "id": "VRB6qqwhthxK"
   },
   "outputs": [],
   "source": [
    "# Split the data into training and testing sets\n",
    "X_train, X_test, y_train, y_test = train_test_split(X, y, test_size=0.2, random_state=42)"
   ]
  },
  {
   "cell_type": "markdown",
   "metadata": {
    "id": "KxpY59N7U8Vw"
   },
   "source": [
    "A `Pipeline` is created that applies the preprocessing steps defined in preprocessor. The fit method is called to fit the pipeline on the training data. The data is then transformed using the pipeline, which scales and encodes the features."
   ]
  },
  {
   "cell_type": "code",
   "execution_count": null,
   "metadata": {
    "colab": {
     "base_uri": "https://localhost:8080/",
     "height": 179
    },
    "id": "-N-v-Wk6ti_f",
    "outputId": "c0278055-7a41-4ad6-ec9d-34d3fc9a0a9d"
   },
   "outputs": [
    {
     "data": {
      "text/html": [
       "<style>#sk-container-id-1 {\n",
       "  /* Definition of color scheme common for light and dark mode */\n",
       "  --sklearn-color-text: black;\n",
       "  --sklearn-color-line: gray;\n",
       "  /* Definition of color scheme for unfitted estimators */\n",
       "  --sklearn-color-unfitted-level-0: #fff5e6;\n",
       "  --sklearn-color-unfitted-level-1: #f6e4d2;\n",
       "  --sklearn-color-unfitted-level-2: #ffe0b3;\n",
       "  --sklearn-color-unfitted-level-3: chocolate;\n",
       "  /* Definition of color scheme for fitted estimators */\n",
       "  --sklearn-color-fitted-level-0: #f0f8ff;\n",
       "  --sklearn-color-fitted-level-1: #d4ebff;\n",
       "  --sklearn-color-fitted-level-2: #b3dbfd;\n",
       "  --sklearn-color-fitted-level-3: cornflowerblue;\n",
       "\n",
       "  /* Specific color for light theme */\n",
       "  --sklearn-color-text-on-default-background: var(--sg-text-color, var(--theme-code-foreground, var(--jp-content-font-color1, black)));\n",
       "  --sklearn-color-background: var(--sg-background-color, var(--theme-background, var(--jp-layout-color0, white)));\n",
       "  --sklearn-color-border-box: var(--sg-text-color, var(--theme-code-foreground, var(--jp-content-font-color1, black)));\n",
       "  --sklearn-color-icon: #696969;\n",
       "\n",
       "  @media (prefers-color-scheme: dark) {\n",
       "    /* Redefinition of color scheme for dark theme */\n",
       "    --sklearn-color-text-on-default-background: var(--sg-text-color, var(--theme-code-foreground, var(--jp-content-font-color1, white)));\n",
       "    --sklearn-color-background: var(--sg-background-color, var(--theme-background, var(--jp-layout-color0, #111)));\n",
       "    --sklearn-color-border-box: var(--sg-text-color, var(--theme-code-foreground, var(--jp-content-font-color1, white)));\n",
       "    --sklearn-color-icon: #878787;\n",
       "  }\n",
       "}\n",
       "\n",
       "#sk-container-id-1 {\n",
       "  color: var(--sklearn-color-text);\n",
       "}\n",
       "\n",
       "#sk-container-id-1 pre {\n",
       "  padding: 0;\n",
       "}\n",
       "\n",
       "#sk-container-id-1 input.sk-hidden--visually {\n",
       "  border: 0;\n",
       "  clip: rect(1px 1px 1px 1px);\n",
       "  clip: rect(1px, 1px, 1px, 1px);\n",
       "  height: 1px;\n",
       "  margin: -1px;\n",
       "  overflow: hidden;\n",
       "  padding: 0;\n",
       "  position: absolute;\n",
       "  width: 1px;\n",
       "}\n",
       "\n",
       "#sk-container-id-1 div.sk-dashed-wrapped {\n",
       "  border: 1px dashed var(--sklearn-color-line);\n",
       "  margin: 0 0.4em 0.5em 0.4em;\n",
       "  box-sizing: border-box;\n",
       "  padding-bottom: 0.4em;\n",
       "  background-color: var(--sklearn-color-background);\n",
       "}\n",
       "\n",
       "#sk-container-id-1 div.sk-container {\n",
       "  /* jupyter's `normalize.less` sets `[hidden] { display: none; }`\n",
       "     but bootstrap.min.css set `[hidden] { display: none !important; }`\n",
       "     so we also need the `!important` here to be able to override the\n",
       "     default hidden behavior on the sphinx rendered scikit-learn.org.\n",
       "     See: https://github.com/scikit-learn/scikit-learn/issues/21755 */\n",
       "  display: inline-block !important;\n",
       "  position: relative;\n",
       "}\n",
       "\n",
       "#sk-container-id-1 div.sk-text-repr-fallback {\n",
       "  display: none;\n",
       "}\n",
       "\n",
       "div.sk-parallel-item,\n",
       "div.sk-serial,\n",
       "div.sk-item {\n",
       "  /* draw centered vertical line to link estimators */\n",
       "  background-image: linear-gradient(var(--sklearn-color-text-on-default-background), var(--sklearn-color-text-on-default-background));\n",
       "  background-size: 2px 100%;\n",
       "  background-repeat: no-repeat;\n",
       "  background-position: center center;\n",
       "}\n",
       "\n",
       "/* Parallel-specific style estimator block */\n",
       "\n",
       "#sk-container-id-1 div.sk-parallel-item::after {\n",
       "  content: \"\";\n",
       "  width: 100%;\n",
       "  border-bottom: 2px solid var(--sklearn-color-text-on-default-background);\n",
       "  flex-grow: 1;\n",
       "}\n",
       "\n",
       "#sk-container-id-1 div.sk-parallel {\n",
       "  display: flex;\n",
       "  align-items: stretch;\n",
       "  justify-content: center;\n",
       "  background-color: var(--sklearn-color-background);\n",
       "  position: relative;\n",
       "}\n",
       "\n",
       "#sk-container-id-1 div.sk-parallel-item {\n",
       "  display: flex;\n",
       "  flex-direction: column;\n",
       "}\n",
       "\n",
       "#sk-container-id-1 div.sk-parallel-item:first-child::after {\n",
       "  align-self: flex-end;\n",
       "  width: 50%;\n",
       "}\n",
       "\n",
       "#sk-container-id-1 div.sk-parallel-item:last-child::after {\n",
       "  align-self: flex-start;\n",
       "  width: 50%;\n",
       "}\n",
       "\n",
       "#sk-container-id-1 div.sk-parallel-item:only-child::after {\n",
       "  width: 0;\n",
       "}\n",
       "\n",
       "/* Serial-specific style estimator block */\n",
       "\n",
       "#sk-container-id-1 div.sk-serial {\n",
       "  display: flex;\n",
       "  flex-direction: column;\n",
       "  align-items: center;\n",
       "  background-color: var(--sklearn-color-background);\n",
       "  padding-right: 1em;\n",
       "  padding-left: 1em;\n",
       "}\n",
       "\n",
       "\n",
       "/* Toggleable style: style used for estimator/Pipeline/ColumnTransformer box that is\n",
       "clickable and can be expanded/collapsed.\n",
       "- Pipeline and ColumnTransformer use this feature and define the default style\n",
       "- Estimators will overwrite some part of the style using the `sk-estimator` class\n",
       "*/\n",
       "\n",
       "/* Pipeline and ColumnTransformer style (default) */\n",
       "\n",
       "#sk-container-id-1 div.sk-toggleable {\n",
       "  /* Default theme specific background. It is overwritten whether we have a\n",
       "  specific estimator or a Pipeline/ColumnTransformer */\n",
       "  background-color: var(--sklearn-color-background);\n",
       "}\n",
       "\n",
       "/* Toggleable label */\n",
       "#sk-container-id-1 label.sk-toggleable__label {\n",
       "  cursor: pointer;\n",
       "  display: block;\n",
       "  width: 100%;\n",
       "  margin-bottom: 0;\n",
       "  padding: 0.5em;\n",
       "  box-sizing: border-box;\n",
       "  text-align: center;\n",
       "}\n",
       "\n",
       "#sk-container-id-1 label.sk-toggleable__label-arrow:before {\n",
       "  /* Arrow on the left of the label */\n",
       "  content: \"▸\";\n",
       "  float: left;\n",
       "  margin-right: 0.25em;\n",
       "  color: var(--sklearn-color-icon);\n",
       "}\n",
       "\n",
       "#sk-container-id-1 label.sk-toggleable__label-arrow:hover:before {\n",
       "  color: var(--sklearn-color-text);\n",
       "}\n",
       "\n",
       "/* Toggleable content - dropdown */\n",
       "\n",
       "#sk-container-id-1 div.sk-toggleable__content {\n",
       "  max-height: 0;\n",
       "  max-width: 0;\n",
       "  overflow: hidden;\n",
       "  text-align: left;\n",
       "  /* unfitted */\n",
       "  background-color: var(--sklearn-color-unfitted-level-0);\n",
       "}\n",
       "\n",
       "#sk-container-id-1 div.sk-toggleable__content.fitted {\n",
       "  /* fitted */\n",
       "  background-color: var(--sklearn-color-fitted-level-0);\n",
       "}\n",
       "\n",
       "#sk-container-id-1 div.sk-toggleable__content pre {\n",
       "  margin: 0.2em;\n",
       "  border-radius: 0.25em;\n",
       "  color: var(--sklearn-color-text);\n",
       "  /* unfitted */\n",
       "  background-color: var(--sklearn-color-unfitted-level-0);\n",
       "}\n",
       "\n",
       "#sk-container-id-1 div.sk-toggleable__content.fitted pre {\n",
       "  /* unfitted */\n",
       "  background-color: var(--sklearn-color-fitted-level-0);\n",
       "}\n",
       "\n",
       "#sk-container-id-1 input.sk-toggleable__control:checked~div.sk-toggleable__content {\n",
       "  /* Expand drop-down */\n",
       "  max-height: 200px;\n",
       "  max-width: 100%;\n",
       "  overflow: auto;\n",
       "}\n",
       "\n",
       "#sk-container-id-1 input.sk-toggleable__control:checked~label.sk-toggleable__label-arrow:before {\n",
       "  content: \"▾\";\n",
       "}\n",
       "\n",
       "/* Pipeline/ColumnTransformer-specific style */\n",
       "\n",
       "#sk-container-id-1 div.sk-label input.sk-toggleable__control:checked~label.sk-toggleable__label {\n",
       "  color: var(--sklearn-color-text);\n",
       "  background-color: var(--sklearn-color-unfitted-level-2);\n",
       "}\n",
       "\n",
       "#sk-container-id-1 div.sk-label.fitted input.sk-toggleable__control:checked~label.sk-toggleable__label {\n",
       "  background-color: var(--sklearn-color-fitted-level-2);\n",
       "}\n",
       "\n",
       "/* Estimator-specific style */\n",
       "\n",
       "/* Colorize estimator box */\n",
       "#sk-container-id-1 div.sk-estimator input.sk-toggleable__control:checked~label.sk-toggleable__label {\n",
       "  /* unfitted */\n",
       "  background-color: var(--sklearn-color-unfitted-level-2);\n",
       "}\n",
       "\n",
       "#sk-container-id-1 div.sk-estimator.fitted input.sk-toggleable__control:checked~label.sk-toggleable__label {\n",
       "  /* fitted */\n",
       "  background-color: var(--sklearn-color-fitted-level-2);\n",
       "}\n",
       "\n",
       "#sk-container-id-1 div.sk-label label.sk-toggleable__label,\n",
       "#sk-container-id-1 div.sk-label label {\n",
       "  /* The background is the default theme color */\n",
       "  color: var(--sklearn-color-text-on-default-background);\n",
       "}\n",
       "\n",
       "/* On hover, darken the color of the background */\n",
       "#sk-container-id-1 div.sk-label:hover label.sk-toggleable__label {\n",
       "  color: var(--sklearn-color-text);\n",
       "  background-color: var(--sklearn-color-unfitted-level-2);\n",
       "}\n",
       "\n",
       "/* Label box, darken color on hover, fitted */\n",
       "#sk-container-id-1 div.sk-label.fitted:hover label.sk-toggleable__label.fitted {\n",
       "  color: var(--sklearn-color-text);\n",
       "  background-color: var(--sklearn-color-fitted-level-2);\n",
       "}\n",
       "\n",
       "/* Estimator label */\n",
       "\n",
       "#sk-container-id-1 div.sk-label label {\n",
       "  font-family: monospace;\n",
       "  font-weight: bold;\n",
       "  display: inline-block;\n",
       "  line-height: 1.2em;\n",
       "}\n",
       "\n",
       "#sk-container-id-1 div.sk-label-container {\n",
       "  text-align: center;\n",
       "}\n",
       "\n",
       "/* Estimator-specific */\n",
       "#sk-container-id-1 div.sk-estimator {\n",
       "  font-family: monospace;\n",
       "  border: 1px dotted var(--sklearn-color-border-box);\n",
       "  border-radius: 0.25em;\n",
       "  box-sizing: border-box;\n",
       "  margin-bottom: 0.5em;\n",
       "  /* unfitted */\n",
       "  background-color: var(--sklearn-color-unfitted-level-0);\n",
       "}\n",
       "\n",
       "#sk-container-id-1 div.sk-estimator.fitted {\n",
       "  /* fitted */\n",
       "  background-color: var(--sklearn-color-fitted-level-0);\n",
       "}\n",
       "\n",
       "/* on hover */\n",
       "#sk-container-id-1 div.sk-estimator:hover {\n",
       "  /* unfitted */\n",
       "  background-color: var(--sklearn-color-unfitted-level-2);\n",
       "}\n",
       "\n",
       "#sk-container-id-1 div.sk-estimator.fitted:hover {\n",
       "  /* fitted */\n",
       "  background-color: var(--sklearn-color-fitted-level-2);\n",
       "}\n",
       "\n",
       "/* Specification for estimator info (e.g. \"i\" and \"?\") */\n",
       "\n",
       "/* Common style for \"i\" and \"?\" */\n",
       "\n",
       ".sk-estimator-doc-link,\n",
       "a:link.sk-estimator-doc-link,\n",
       "a:visited.sk-estimator-doc-link {\n",
       "  float: right;\n",
       "  font-size: smaller;\n",
       "  line-height: 1em;\n",
       "  font-family: monospace;\n",
       "  background-color: var(--sklearn-color-background);\n",
       "  border-radius: 1em;\n",
       "  height: 1em;\n",
       "  width: 1em;\n",
       "  text-decoration: none !important;\n",
       "  margin-left: 1ex;\n",
       "  /* unfitted */\n",
       "  border: var(--sklearn-color-unfitted-level-1) 1pt solid;\n",
       "  color: var(--sklearn-color-unfitted-level-1);\n",
       "}\n",
       "\n",
       ".sk-estimator-doc-link.fitted,\n",
       "a:link.sk-estimator-doc-link.fitted,\n",
       "a:visited.sk-estimator-doc-link.fitted {\n",
       "  /* fitted */\n",
       "  border: var(--sklearn-color-fitted-level-1) 1pt solid;\n",
       "  color: var(--sklearn-color-fitted-level-1);\n",
       "}\n",
       "\n",
       "/* On hover */\n",
       "div.sk-estimator:hover .sk-estimator-doc-link:hover,\n",
       ".sk-estimator-doc-link:hover,\n",
       "div.sk-label-container:hover .sk-estimator-doc-link:hover,\n",
       ".sk-estimator-doc-link:hover {\n",
       "  /* unfitted */\n",
       "  background-color: var(--sklearn-color-unfitted-level-3);\n",
       "  color: var(--sklearn-color-background);\n",
       "  text-decoration: none;\n",
       "}\n",
       "\n",
       "div.sk-estimator.fitted:hover .sk-estimator-doc-link.fitted:hover,\n",
       ".sk-estimator-doc-link.fitted:hover,\n",
       "div.sk-label-container:hover .sk-estimator-doc-link.fitted:hover,\n",
       ".sk-estimator-doc-link.fitted:hover {\n",
       "  /* fitted */\n",
       "  background-color: var(--sklearn-color-fitted-level-3);\n",
       "  color: var(--sklearn-color-background);\n",
       "  text-decoration: none;\n",
       "}\n",
       "\n",
       "/* Span, style for the box shown on hovering the info icon */\n",
       ".sk-estimator-doc-link span {\n",
       "  display: none;\n",
       "  z-index: 9999;\n",
       "  position: relative;\n",
       "  font-weight: normal;\n",
       "  right: .2ex;\n",
       "  padding: .5ex;\n",
       "  margin: .5ex;\n",
       "  width: min-content;\n",
       "  min-width: 20ex;\n",
       "  max-width: 50ex;\n",
       "  color: var(--sklearn-color-text);\n",
       "  box-shadow: 2pt 2pt 4pt #999;\n",
       "  /* unfitted */\n",
       "  background: var(--sklearn-color-unfitted-level-0);\n",
       "  border: .5pt solid var(--sklearn-color-unfitted-level-3);\n",
       "}\n",
       "\n",
       ".sk-estimator-doc-link.fitted span {\n",
       "  /* fitted */\n",
       "  background: var(--sklearn-color-fitted-level-0);\n",
       "  border: var(--sklearn-color-fitted-level-3);\n",
       "}\n",
       "\n",
       ".sk-estimator-doc-link:hover span {\n",
       "  display: block;\n",
       "}\n",
       "\n",
       "/* \"?\"-specific style due to the `<a>` HTML tag */\n",
       "\n",
       "#sk-container-id-1 a.estimator_doc_link {\n",
       "  float: right;\n",
       "  font-size: 1rem;\n",
       "  line-height: 1em;\n",
       "  font-family: monospace;\n",
       "  background-color: var(--sklearn-color-background);\n",
       "  border-radius: 1rem;\n",
       "  height: 1rem;\n",
       "  width: 1rem;\n",
       "  text-decoration: none;\n",
       "  /* unfitted */\n",
       "  color: var(--sklearn-color-unfitted-level-1);\n",
       "  border: var(--sklearn-color-unfitted-level-1) 1pt solid;\n",
       "}\n",
       "\n",
       "#sk-container-id-1 a.estimator_doc_link.fitted {\n",
       "  /* fitted */\n",
       "  border: var(--sklearn-color-fitted-level-1) 1pt solid;\n",
       "  color: var(--sklearn-color-fitted-level-1);\n",
       "}\n",
       "\n",
       "/* On hover */\n",
       "#sk-container-id-1 a.estimator_doc_link:hover {\n",
       "  /* unfitted */\n",
       "  background-color: var(--sklearn-color-unfitted-level-3);\n",
       "  color: var(--sklearn-color-background);\n",
       "  text-decoration: none;\n",
       "}\n",
       "\n",
       "#sk-container-id-1 a.estimator_doc_link.fitted:hover {\n",
       "  /* fitted */\n",
       "  background-color: var(--sklearn-color-fitted-level-3);\n",
       "}\n",
       "</style><div id=\"sk-container-id-1\" class=\"sk-top-container\"><div class=\"sk-text-repr-fallback\"><pre>Pipeline(steps=[(&#x27;preprocessor&#x27;,\n",
       "                 ColumnTransformer(transformers=[(&#x27;num&#x27;, StandardScaler(),\n",
       "                                                  [&#x27;age&#x27;, &#x27;gender&#x27;,\n",
       "                                                   &#x27;hypertension&#x27;,\n",
       "                                                   &#x27;heart_disease&#x27;,\n",
       "                                                   &#x27;avg_glucose_level&#x27;,\n",
       "                                                   &#x27;bmi&#x27;]),\n",
       "                                                 (&#x27;cat&#x27;,\n",
       "                                                  OneHotEncoder(drop=&#x27;first&#x27;,\n",
       "                                                                handle_unknown=&#x27;ignore&#x27;),\n",
       "                                                  [&#x27;ever_married&#x27;, &#x27;work_type&#x27;,\n",
       "                                                   &#x27;Residence_type&#x27;,\n",
       "                                                   &#x27;smoking_status&#x27;])]))])</pre><b>In a Jupyter environment, please rerun this cell to show the HTML representation or trust the notebook. <br />On GitHub, the HTML representation is unable to render, please try loading this page with nbviewer.org.</b></div><div class=\"sk-container\" hidden><div class=\"sk-item sk-dashed-wrapped\"><div class=\"sk-label-container\"><div class=\"sk-label fitted sk-toggleable\"><input class=\"sk-toggleable__control sk-hidden--visually\" id=\"sk-estimator-id-1\" type=\"checkbox\" ><label for=\"sk-estimator-id-1\" class=\"sk-toggleable__label fitted sk-toggleable__label-arrow fitted\">&nbsp;&nbsp;Pipeline<a class=\"sk-estimator-doc-link fitted\" rel=\"noreferrer\" target=\"_blank\" href=\"https://scikit-learn.org/1.5/modules/generated/sklearn.pipeline.Pipeline.html\">?<span>Documentation for Pipeline</span></a><span class=\"sk-estimator-doc-link fitted\">i<span>Fitted</span></span></label><div class=\"sk-toggleable__content fitted\"><pre>Pipeline(steps=[(&#x27;preprocessor&#x27;,\n",
       "                 ColumnTransformer(transformers=[(&#x27;num&#x27;, StandardScaler(),\n",
       "                                                  [&#x27;age&#x27;, &#x27;gender&#x27;,\n",
       "                                                   &#x27;hypertension&#x27;,\n",
       "                                                   &#x27;heart_disease&#x27;,\n",
       "                                                   &#x27;avg_glucose_level&#x27;,\n",
       "                                                   &#x27;bmi&#x27;]),\n",
       "                                                 (&#x27;cat&#x27;,\n",
       "                                                  OneHotEncoder(drop=&#x27;first&#x27;,\n",
       "                                                                handle_unknown=&#x27;ignore&#x27;),\n",
       "                                                  [&#x27;ever_married&#x27;, &#x27;work_type&#x27;,\n",
       "                                                   &#x27;Residence_type&#x27;,\n",
       "                                                   &#x27;smoking_status&#x27;])]))])</pre></div> </div></div><div class=\"sk-serial\"><div class=\"sk-item sk-dashed-wrapped\"><div class=\"sk-label-container\"><div class=\"sk-label fitted sk-toggleable\"><input class=\"sk-toggleable__control sk-hidden--visually\" id=\"sk-estimator-id-2\" type=\"checkbox\" ><label for=\"sk-estimator-id-2\" class=\"sk-toggleable__label fitted sk-toggleable__label-arrow fitted\">&nbsp;preprocessor: ColumnTransformer<a class=\"sk-estimator-doc-link fitted\" rel=\"noreferrer\" target=\"_blank\" href=\"https://scikit-learn.org/1.5/modules/generated/sklearn.compose.ColumnTransformer.html\">?<span>Documentation for preprocessor: ColumnTransformer</span></a></label><div class=\"sk-toggleable__content fitted\"><pre>ColumnTransformer(transformers=[(&#x27;num&#x27;, StandardScaler(),\n",
       "                                 [&#x27;age&#x27;, &#x27;gender&#x27;, &#x27;hypertension&#x27;,\n",
       "                                  &#x27;heart_disease&#x27;, &#x27;avg_glucose_level&#x27;,\n",
       "                                  &#x27;bmi&#x27;]),\n",
       "                                (&#x27;cat&#x27;,\n",
       "                                 OneHotEncoder(drop=&#x27;first&#x27;,\n",
       "                                               handle_unknown=&#x27;ignore&#x27;),\n",
       "                                 [&#x27;ever_married&#x27;, &#x27;work_type&#x27;, &#x27;Residence_type&#x27;,\n",
       "                                  &#x27;smoking_status&#x27;])])</pre></div> </div></div><div class=\"sk-parallel\"><div class=\"sk-parallel-item\"><div class=\"sk-item\"><div class=\"sk-label-container\"><div class=\"sk-label fitted sk-toggleable\"><input class=\"sk-toggleable__control sk-hidden--visually\" id=\"sk-estimator-id-3\" type=\"checkbox\" ><label for=\"sk-estimator-id-3\" class=\"sk-toggleable__label fitted sk-toggleable__label-arrow fitted\">num</label><div class=\"sk-toggleable__content fitted\"><pre>[&#x27;age&#x27;, &#x27;gender&#x27;, &#x27;hypertension&#x27;, &#x27;heart_disease&#x27;, &#x27;avg_glucose_level&#x27;, &#x27;bmi&#x27;]</pre></div> </div></div><div class=\"sk-serial\"><div class=\"sk-item\"><div class=\"sk-estimator fitted sk-toggleable\"><input class=\"sk-toggleable__control sk-hidden--visually\" id=\"sk-estimator-id-4\" type=\"checkbox\" ><label for=\"sk-estimator-id-4\" class=\"sk-toggleable__label fitted sk-toggleable__label-arrow fitted\">&nbsp;StandardScaler<a class=\"sk-estimator-doc-link fitted\" rel=\"noreferrer\" target=\"_blank\" href=\"https://scikit-learn.org/1.5/modules/generated/sklearn.preprocessing.StandardScaler.html\">?<span>Documentation for StandardScaler</span></a></label><div class=\"sk-toggleable__content fitted\"><pre>StandardScaler()</pre></div> </div></div></div></div></div><div class=\"sk-parallel-item\"><div class=\"sk-item\"><div class=\"sk-label-container\"><div class=\"sk-label fitted sk-toggleable\"><input class=\"sk-toggleable__control sk-hidden--visually\" id=\"sk-estimator-id-5\" type=\"checkbox\" ><label for=\"sk-estimator-id-5\" class=\"sk-toggleable__label fitted sk-toggleable__label-arrow fitted\">cat</label><div class=\"sk-toggleable__content fitted\"><pre>[&#x27;ever_married&#x27;, &#x27;work_type&#x27;, &#x27;Residence_type&#x27;, &#x27;smoking_status&#x27;]</pre></div> </div></div><div class=\"sk-serial\"><div class=\"sk-item\"><div class=\"sk-estimator fitted sk-toggleable\"><input class=\"sk-toggleable__control sk-hidden--visually\" id=\"sk-estimator-id-6\" type=\"checkbox\" ><label for=\"sk-estimator-id-6\" class=\"sk-toggleable__label fitted sk-toggleable__label-arrow fitted\">&nbsp;OneHotEncoder<a class=\"sk-estimator-doc-link fitted\" rel=\"noreferrer\" target=\"_blank\" href=\"https://scikit-learn.org/1.5/modules/generated/sklearn.preprocessing.OneHotEncoder.html\">?<span>Documentation for OneHotEncoder</span></a></label><div class=\"sk-toggleable__content fitted\"><pre>OneHotEncoder(drop=&#x27;first&#x27;, handle_unknown=&#x27;ignore&#x27;)</pre></div> </div></div></div></div></div></div></div></div></div></div></div>"
      ],
      "text/plain": [
       "Pipeline(steps=[('preprocessor',\n",
       "                 ColumnTransformer(transformers=[('num', StandardScaler(),\n",
       "                                                  ['age', 'gender',\n",
       "                                                   'hypertension',\n",
       "                                                   'heart_disease',\n",
       "                                                   'avg_glucose_level',\n",
       "                                                   'bmi']),\n",
       "                                                 ('cat',\n",
       "                                                  OneHotEncoder(drop='first',\n",
       "                                                                handle_unknown='ignore'),\n",
       "                                                  ['ever_married', 'work_type',\n",
       "                                                   'Residence_type',\n",
       "                                                   'smoking_status'])]))])"
      ]
     },
     "execution_count": 16,
     "metadata": {},
     "output_type": "execute_result"
    }
   ],
   "source": [
    "# Create a preprocessing pipeline\n",
    "pipeline = Pipeline(steps=[\n",
    "    ('preprocessor', preprocessor)\n",
    "])\n",
    "pipeline.fit(X)"
   ]
  },
  {
   "cell_type": "code",
   "execution_count": null,
   "metadata": {
    "id": "mt8Rtf2RvS7L"
   },
   "outputs": [],
   "source": [
    "# Transform the entire dataset\n",
    "X_processed = pipeline.transform(X)\n",
    "\n",
    "# Split the preprocessed data into training and testing sets\n",
    "X_train_processed, X_test_processed, y_train, y_test = train_test_split(X_processed, y, test_size=0.2, random_state=42)"
   ]
  },
  {
   "cell_type": "markdown",
   "metadata": {
    "id": "VZd5SOhmv96M"
   },
   "source": [
    "# **GRADIENT BOOSTING (from scratch)**"
   ]
  },
  {
   "cell_type": "markdown",
   "metadata": {
    "id": "mo32Lya5B7Om"
   },
   "source": [
    "![1_J6tdM41_B4afb5axBhkC5A.webp](data:image/webp;base64,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)\n",
    "\n",
    "\n",
    "**Reference:**\n",
    "Xu, X. (2022, December). Research on the stock price forecasting of netflix based on linear regression, decision tree, and gradient boosting models. In 2022 2nd International Conference on Business Administration and Data Science (BADS 2022) (pp. 1232-1242). Atlantis Press.\n",
    "\n",
    "\n",
    "\n",
    "\n",
    "\n",
    "\n",
    "From here we can see the pseudocode for Gradient Boosting:\n",
    "\n",
    "\n",
    "\n",
    "```\n",
    "1. Initialize the model with a base prediction (usually the mean of the target variable, y).\n",
    "2. For each iteration t = 1 to T (where T is the number of trees):\n",
    "    a. Compute the residuals: residuals = y - F(x)  (the difference between the actual values and the current model's predictions)\n",
    "    b. Fit a new weak learner (usually a decision tree) to predict the residuals.\n",
    "    c. Update the model's predictions: F(x) = F(x) + learning_rate * h_t(x), where h_t(x) is the prediction of the t-th tree.\n",
    "3. The final model is the sum of the base prediction and the predictions from all the trees.\n",
    "\n",
    "\n",
    "```\n",
    "\n",
    "\n",
    "The process begins by initializing the model with a simple base prediction, which is typically the mean of the target variable\n",
    "𝑦, as no model has been trained initially. Then, for each iteration 𝑡 (from 1 to 𝑇, where 𝑇 is the number of trees), a new weak learner is trained on the residuals or errors between the actual target values 𝑦 and the current model’s predictions 𝐹(𝑥). These residuals represent the mistakes made by the model at that stage, and the goal of the new tree is to predict these errors so that they can be corrected.\n",
    "\n",
    "Once the residuals are computed, a decision tree (or another weak learner) is trained to predict them. After this, the model’s predictions are updated by adding the new tree’s predictions, scaled by a factor known as the learning rate\n",
    "𝜂, which controls how much each tree contributes to the final model. The final model is the sum of the base prediction and the predictions from all the trees.\n",
    "\n",
    "At each iteration, the residuals\n",
    "𝑟𝑡(𝑥) are calculated as the difference between the true target values 𝑦 and the model’s current predictions 𝐹𝑡−1(𝑥)​. This ensures that each tree focuses on correcting the errors from the previous trees. The model’s predictions are updated by adding the scaled predictions from the\n",
    "𝑡\n",
    "t-th tree\n",
    "ℎ\n",
    "𝑡\n",
    "(\n",
    "𝑥\n",
    ") to the previous predictions.\n",
    "\n"
   ]
  },
  {
   "cell_type": "markdown",
   "metadata": {
    "id": "58Qfu2YOVbDP"
   },
   "source": [
    "## **How does it work?**\n",
    "\n",
    "A function gradient_boosting is defined to implement the gradient boosting algorithm. It initializes predictions to the mean of y. The function iterates over a predefined number of trees. For each iteration, it computes the residuals (differences between the true and predicted values), fits a decision tree to the residuals, and updates the predictions. The predict function uses the final predictions to predict the target values for new data (X_new). The function returns the predict function for later use.\n",
    "\n",
    "The gradient boosting model is trained using the gradient_boosting function and then predictions on the test set are made using the trained model\n"
   ]
  },
  {
   "cell_type": "markdown",
   "metadata": {
    "id": "-Ds-Q6djmHV3"
   },
   "source": [
    "### **Model Training**"
   ]
  },
  {
   "cell_type": "code",
   "execution_count": null,
   "metadata": {
    "id": "odBYvGfWjbL0"
   },
   "outputs": [],
   "source": [
    "def gradient_boosting(X, y, num_trees=100, learning_rate=0.1, max_depth=3):\n",
    "    \"\"\"\n",
    "    Implements Gradient Boosting from scratch.\n",
    "\n",
    "    Args:\n",
    "        X: Training features (2D array).\n",
    "        y: Training target values (1D array).\n",
    "        num_trees: Number of trees to build.\n",
    "        learning_rate: Controls the contribution of each tree.\n",
    "        max_depth: Maximum depth of each tree.\n",
    "\n",
    "    Returns:\n",
    "        A function that predicts target values for new data.\n",
    "    \"\"\"\n",
    "\n",
    "    # Initialize prediction with mean of target values\n",
    "    predictions = np.mean(y)\n",
    "\n",
    "    # Iterate over trees\n",
    "    for i in range(num_trees):\n",
    "        # Calculate residuals (errors)\n",
    "        residuals = y - predictions\n",
    "\n",
    "        # Train a weak learner (decision tree) on the residuals\n",
    "        tree = DecisionTreeRegressor(max_depth=max_depth)\n",
    "        tree.fit(X, residuals)\n",
    "\n",
    "        # Update predictions with the weighted output of the new tree\n",
    "        predictions += learning_rate * tree.predict(X)\n",
    "\n",
    "    # Return a function to predict for new data\n",
    "    def predict(X_new):\n",
    "        predictions_new = np.mean(y)\n",
    "        for i in range(num_trees):\n",
    "            predictions_new += learning_rate * tree.predict(X_new)\n",
    "        return predictions_new\n",
    "\n",
    "    return predict"
   ]
  },
  {
   "cell_type": "markdown",
   "metadata": {
    "id": "fGOcEHOsmc4H"
   },
   "source": [
    "The gradient_boosting function takes in the training data X and y, along with hyperparameters num_trees, learning_rate, and max_depth. It initializes the predictions with the mean of the target values. Then, it iteratively builds num_trees decision trees, each trained on the residuals (errors) of the previous tree. The predictions are updated by adding the weighted output of each new tree. Finally, it returns a function that can be used to predict target values for new data."
   ]
  },
  {
   "cell_type": "code",
   "execution_count": null,
   "metadata": {
    "id": "02H4J8BOwBPz"
   },
   "outputs": [],
   "source": [
    "# Train the gradient boosting model\n",
    "predict_fn = gradient_boosting(X_train, y_train, num_trees=100, learning_rate=0.1, max_depth=3)\n",
    "\n",
    "# Make predictions on the test set\n",
    "y_pred = predict_fn(X_test)\n",
    "\n",
    "# Convert predictions to binary (for classification)\n",
    "y_pred_binary = (y_pred > 0.5).astype(int)"
   ]
  },
  {
   "cell_type": "markdown",
   "metadata": {
    "id": "1qy4yOvAmD_S"
   },
   "source": [
    "### Model Evaluation"
   ]
  },
  {
   "cell_type": "code",
   "execution_count": null,
   "metadata": {
    "colab": {
     "base_uri": "https://localhost:8080/"
    },
    "id": "BtugZv8g8O65",
    "outputId": "15db0462-4e59-42f9-b574-56ed963d9103"
   },
   "outputs": [
    {
     "name": "stdout",
     "output_type": "stream",
     "text": [
      "Training Accuracy: 0.95\n",
      "Test Accuracy: 0.94\n",
      "Training Mean Squared Error: 0.05\n",
      "Test Mean Squared Error: 0.06\n",
      "Warning: The model might be overfitting.\n"
     ]
    }
   ],
   "source": [
    "# Evaluate the model on the training set\n",
    "y_train_pred = predict_fn(X_train)\n",
    "y_train_pred_binary = (y_train_pred > 0.5).astype(int)\n",
    "\n",
    "train_accuracy = accuracy_score(y_train, y_train_pred_binary)\n",
    "train_mse = mean_squared_error(y_train, y_train_pred)\n",
    "\n",
    "# Evaluate the model on the test set (already done)\n",
    "test_accuracy = accuracy_score(y_test, y_pred_binary)\n",
    "test_mse = mean_squared_error(y_test, y_pred)\n",
    "\n",
    "# Print results\n",
    "print(f\"Training Accuracy: {train_accuracy:.2f}\")\n",
    "print(f\"Test Accuracy: {test_accuracy:.2f}\")\n",
    "print(f\"Training Mean Squared Error: {train_mse:.2f}\")\n",
    "print(f\"Test Mean Squared Error: {test_mse:.2f}\")\n",
    "\n",
    "# Check for overfitting\n",
    "if train_accuracy > test_accuracy:\n",
    "    print(\"Warning: The model might be overfitting.\")\n",
    "else:\n",
    "    print(\"The model's performance on training and test sets is comparable.\")\n"
   ]
  },
  {
   "cell_type": "code",
   "execution_count": null,
   "metadata": {
    "colab": {
     "base_uri": "https://localhost:8080/",
     "height": 472
    },
    "id": "CRXnuE1pbBUP",
    "outputId": "7b9c87d1-2187-4d3c-b8c0-0c9d4c0652b6"
   },
   "outputs": [
    {
     "data": {
      "image/png": "[encoded data removed]",
      "text/plain": [
       "<Figure size 640x480 with 1 Axes>"
      ]
     },
     "metadata": {},
     "output_type": "display_data"
    }
   ],
   "source": [
    "# Visualize the predictions\n",
    "plt.scatter(y_test, y_pred, alpha=0.5)\n",
    "plt.xlabel(\"True Values\")\n",
    "plt.ylabel(\"Predicted Values\")\n",
    "plt.title(\"True vs Predicted Values\")\n",
    "plt.show()"
   ]
  },
  {
   "cell_type": "markdown",
   "metadata": {
    "id": "O9CO8oKeWeZQ"
   },
   "source": [
    "## **Comparing with Baseline Model**"
   ]
  },
  {
   "cell_type": "code",
   "execution_count": null,
   "metadata": {
    "colab": {
     "base_uri": "https://localhost:8080/"
    },
    "id": "w6lL6xXV8TAM",
    "outputId": "660044c0-6ef4-41e0-9ce4-a16604e1922e"
   },
   "outputs": [
    {
     "name": "stdout",
     "output_type": "stream",
     "text": [
      "Baseline Model (Logistic Regression) Accuracy: 0.94\n",
      "Training Accuracy: 0.95\n",
      "Overfitting detected!\n"
     ]
    }
   ],
   "source": [
    "# Compare with a baseline model (Logistic Regression)\n",
    "\n",
    "baseline_model = LogisticRegression(max_iter=1000)\n",
    "baseline_model.fit(X_train, y_train)\n",
    "y_pred_baseline = baseline_model.predict(X_test)\n",
    "accuracy_baseline = accuracy_score(y_test, y_pred_baseline)\n",
    "print(f\"Baseline Model (Logistic Regression) Accuracy: {accuracy_baseline:.2f}\")\n",
    "\n",
    "# Check for overfitting\n",
    "y_pred_train = predict_fn(X_train)\n",
    "y_pred_train_binary = (y_pred_train > 0.5).astype(int)\n",
    "accuracy_train = accuracy_score(y_train, y_pred_train_binary)\n",
    "print(f\"Training Accuracy: {accuracy_train:.2f}\")\n",
    "\n",
    "if accuracy_train > accuracy_baseline:\n",
    "    print(\"Overfitting detected!\")\n",
    "else:\n",
    "    print(\"No overfitting detected.\")"
   ]
  },
  {
   "cell_type": "markdown",
   "metadata": {
    "id": "-8XXZd_x8rDP"
   },
   "source": [
    "Since in the baseline model and our gradient boosting method from scratch says that it's overfitted, we can implement early stopping in our gradient boost function.\n",
    "\n",
    "We can do this by creating a copy of the original training data (X_train_copy and y_train_copy) to avoid modifying the original data.\n",
    "\n",
    "After that, we will define a new gradient_boosting_with_early_stopping function that takes additional patience and min_delta parameters. Then, we modify the training loop to include early stopping logic.\n"
   ]
  },
  {
   "cell_type": "markdown",
   "metadata": {
    "id": "NmA-W4Ec9lXg"
   },
   "source": [
    "# **Modified gradient_boosting Function with Early Stopping**\n"
   ]
  },
  {
   "cell_type": "code",
   "execution_count": null,
   "metadata": {
    "id": "DO4QPZpelOOi"
   },
   "outputs": [],
   "source": [
    "# Create a copy of the original training data (to avoid modifying it)\n",
    "X_train_copy = X_train.copy()\n",
    "y_train_copy = y_train.copy()"
   ]
  },
  {
   "cell_type": "code",
   "execution_count": null,
   "metadata": {
    "id": "yxXOYy42c0E9"
   },
   "outputs": [],
   "source": [
    "# Split the copied data into training and validation sets\n",
    "X_train_final, X_val, y_train_final, y_val = train_test_split(\n",
    "    X_train_copy, y_train_copy, test_size=0.2, random_state=42\n",
    ")"
   ]
  },
  {
   "cell_type": "markdown",
   "metadata": {
    "id": "Mp-WBvvwlP0R"
   },
   "source": [
    "After creating copies of the training data, a modified `gradient_boosting_with_early_stopping` function is then defined, introducing `X_val` and `y_val` for validation, along with patience and `min_delta` to monitor performance and control early stopping. Initial predictions are set to the mean of the target variable, while `best_loss` tracks the lowest validation loss and `patience_counter` counts iterations without improvement. A nested `predict_fn` function is defined to generate predictions on new data using all trained trees up to the current iteration. The training loop iterates through the specified number of trees, calculating residuals, fitting a new tree to these residuals, and updating predictions accordingly. After each iteration, the validation loss is computed, and if it improves beyond the `min_delta`, `best_loss` is updated, and the patience counter is reset. If no improvement is observed for the specified patience, the training stops early to prevent overfitting, returning the `predict_fn` function for predictions."
   ]
  },
  {
   "cell_type": "code",
   "execution_count": null,
   "metadata": {
    "id": "nRo9Nq8x9PHS"
   },
   "outputs": [],
   "source": [
    "def gradient_boosting_with_early_stopping(X_train, y_train, X_val, y_val, num_trees=100, learning_rate=0.1, max_depth=3, patience=10, min_delta=1e-4):\n",
    "    \"\"\"\n",
    "    Implements Gradient Boosting from scratch with Early Stopping.\n",
    "\n",
    "    Args:\n",
    "        X_train: Training features (2D array).\n",
    "        y_train: Training target values (1D array).\n",
    "        X_val: Validation features (2D array).\n",
    "        y_val: Validation target values (1D array).\n",
    "        num_trees: Number of trees to build.\n",
    "        learning_rate: Controls the contribution of each tree.\n",
    "        max_depth: Maximum depth of each tree.\n",
    "        patience: Number of iterations to wait for improvement in validation loss.\n",
    "        min_delta: Minimum change in validation loss to qualify as an improvement.\n",
    "\n",
    "    Returns:\n",
    "        A function that predicts target values for new data.\n",
    "    \"\"\"\n",
    "\n",
    "    # Initialize prediction with mean of target values\n",
    "    predictions = np.full(y_train.shape, np.mean(y_train))\n",
    "    best_loss = float('inf')\n",
    "    patience_counter = 0\n",
    "\n",
    "    # Initialize a list to store the sequence of trees\n",
    "    trees = []\n",
    "\n",
    "    # Iterate over trees\n",
    "    for i in range(num_trees):\n",
    "        # Calculate residuals (errors)\n",
    "        residuals = y_train - predictions\n",
    "\n",
    "        # Train a weak learner (decision tree) on the residuals\n",
    "        tree = DecisionTreeRegressor(max_depth=max_depth)\n",
    "        tree.fit(X_train, residuals)\n",
    "\n",
    "        # Store the tree\n",
    "        trees.append(tree)\n",
    "\n",
    "        # Update predictions with the weighted output of the new tree\n",
    "        predictions += learning_rate * tree.predict(X_train)\n",
    "\n",
    "        # Compute validation loss\n",
    "        val_predictions = np.full(y_val.shape, np.mean(y_train))\n",
    "        for t in trees:\n",
    "            val_predictions += learning_rate * t.predict(X_val)\n",
    "        val_loss = mean_squared_error(y_val, val_predictions)\n",
    "\n",
    "        # Check for improvement\n",
    "        if val_loss < best_loss - min_delta:\n",
    "            best_loss = val_loss\n",
    "            patience_counter = 0\n",
    "        else:\n",
    "            patience_counter += 1\n",
    "\n",
    "        # Stop training if patience exceeded\n",
    "        if patience_counter >= patience:\n",
    "            print(f\"Early stopping at iteration {i}\")\n",
    "            break\n",
    "\n",
    "    # Define a prediction function for new data\n",
    "    def predict(X_new):\n",
    "        predictions_new = np.full(X_new.shape[0], np.mean(y_train))\n",
    "        for t in trees:\n",
    "            predictions_new += learning_rate * t.predict(X_new)\n",
    "        return predictions_new\n",
    "\n",
    "    return predict\n"
   ]
  },
  {
   "cell_type": "markdown",
   "metadata": {
    "id": "9ABvyTQxl71N"
   },
   "source": [
    "Within the main training loop, residuals are calculated as the difference between actual and predicted values, and a decision tree regressor is trained on these residuals. The model's predictions are updated incrementally with the tree’s output scaled by the learning rate. Training and validation losses are calculated at each iteration. If validation loss improves beyond `min_delta`, `best_loss` is updated and the patience counter is reset; otherwise, the counter increments.\n",
    "\n",
    "If the patience counter reaches the specified threshold, training halts, and the model stops adding trees to prevent overfitting. Finally, the function returns the prediction function with all trained trees. The model is trained with the defined parameters and early stopping logic to optimize generalization and avoid overfitting."
   ]
  },
  {
   "cell_type": "code",
   "execution_count": null,
   "metadata": {
    "id": "Y01vO1LTlYJL"
   },
   "outputs": [],
   "source": [
    "# Train the model with early stopping\n",
    "predict_fn_with_early_stopping = gradient_boosting_with_early_stopping(X_train_copy, y_train_copy, X_val, y_val, num_trees=100, learning_rate=0.1, max_depth=3, patience=10, min_delta=1e-4)"
   ]
  },
  {
   "cell_type": "code",
   "execution_count": null,
   "metadata": {
    "colab": {
     "base_uri": "https://localhost:8080/"
    },
    "id": "2c-OWQyAeEsn",
    "outputId": "4588832e-11f0-4f99-a053-669a9e998fe2"
   },
   "outputs": [
    {
     "name": "stdout",
     "output_type": "stream",
     "text": [
      "Test Accuracy: 0.9393\n"
     ]
    }
   ],
   "source": [
    "# Evaluate on the test set\n",
    "test_predictions = predict_fn_with_early_stopping(X_test)\n",
    "test_predictions_binary = (test_predictions > 0.5).astype(int)\n",
    "test_accuracy = accuracy_score(y_test, test_predictions_binary)\n",
    "\n",
    "print(f\"Test Accuracy: {test_accuracy:.4f}\")"
   ]
  },
  {
   "cell_type": "code",
   "execution_count": null,
   "metadata": {
    "colab": {
     "base_uri": "https://localhost:8080/"
    },
    "id": "nfkjMNqD95vx",
    "outputId": "e4ba1d89-ea20-4da0-a4a6-d41c6d5f2b3a"
   },
   "outputs": [
    {
     "name": "stdout",
     "output_type": "stream",
     "text": [
      "Validation MSE: 0.0329\n",
      "Test MSE: 0.0512\n"
     ]
    }
   ],
   "source": [
    "# Evaluate on the validation set\n",
    "val_predictions = predict_fn_with_early_stopping(X_val)\n",
    "val_mse = mean_squared_error(y_val, val_predictions)\n",
    "print(f\"Validation MSE: {val_mse:.4f}\")\n",
    "\n",
    "# Evaluate on the test set\n",
    "test_predictions = predict_fn_with_early_stopping(X_test)\n",
    "test_mse = mean_squared_error(y_test, test_predictions)\n",
    "print(f\"Test MSE: {test_mse:.4f}\")"
   ]
  },
  {
   "cell_type": "markdown",
   "metadata": {
    "id": "wD-GQzNLgvlg"
   },
   "source": [
    "The original gradient boosting model shows high training accuracy (0.95) and test accuracy (0.94), with a slight difference in MSE (0.05 for training and 0.06 for testing), indicating potential overfitting. In comparison, the model with early stopping has a lower validation MSE (0.0329) and a slightly better test MSE (0.0511) than the original model, suggesting improved generalization. While both models achieve similar accuracy, the early stopping model performs a bit better in terms of MSE, indicating that early stopping helped reduce overfitting and improved performance on unseen data."
   ]
  },
  {
   "cell_type": "markdown",
   "metadata": {
    "id": "WxudaF9Uh6t5"
   },
   "source": [
    "## **How does the gradient boosting algorithm differ from random forests in terms of making the final forecast and in terms of overall logic?**\n",
    "\n",
    "### **Model Building Logic:**\n",
    "\n",
    "In Gradient Boosting, trees are built sequentially, with each new tree trained to correct the errors made by the previous ones (boosting). This iterative process allows gradient boosting to focus on the mistakes from prior trees, gradually improving the model's performance. In contrast, Random Forests build trees independently and in parallel. Each tree is trained on a random subset of the data (bagging) and uses a random subset of features for each split. The final prediction in Random Forests is made by averaging the outputs in regression tasks or by voting in classification tasks.\n",
    "\n",
    "### **Final Forecast:**\n",
    "\n",
    "In Gradient Boosting, the final prediction is the cumulative sum of all trees' predictions, weighted by the learning rate. This process consists of a series of corrections to the predictions based on the errors (residuals) from previous iterations. On the other hand, Random Forests calculate the final forecast by averaging the predictions of all individual trees in regression or by taking a majority vote in classification tasks.\n",
    "\n",
    "### **Bias and Variance:**\n",
    "Gradient Boosting is more prone to overfitting, especially when using a large number of trees or small learning rates, as it fits each tree based on the residuals (errors) of previous models. This can lead to a model that is overly complex and highly sensitive to the training data. In contrast, Random Forests are less prone to overfitting due to the use of bagging, where trees are trained on different subsets of the data. This ensures diversity among the trees, which reduces variance and generally improves the model's ability to generalize to new, unseen data.\n",
    "\n"
   ]
  },
  {
   "cell_type": "markdown",
   "metadata": {
    "id": "Jk6o1kPOraA6"
   },
   "source": [
    "| Aspect                  | Gradient Boosting                          | Random Forest Classifier (RFC)               |\n",
    "|-------------------------|--------------------------------------------|----------------------------------------------|\n",
    "| **Model Building Logic** | Trees are built sequentially; each new tree corrects errors made by the previous ones (boosting). | Trees are built independently and in parallel; each tree is trained on a random subset of data and features (bagging). |\n",
    "| **Final Forecast**       | The final prediction is the cumulative sum of all tree predictions, weighted by the learning rate. | The final prediction is the average (regression) or majority vote (classification) from all trees. |\n",
    "| **Bias**                 | More prone to overfitting due to sequential correction of errors. | Less prone to overfitting due to the averaging of multiple independent trees. |\n",
    "| **Variance**             | Prone to higher variance, especially with too many trees or small learning rates. | Lower variance due to the use of bagging and random feature selection, which ensures diversity among trees. |\n",
    "| **Training Process**     | Sequential; each tree builds on the previous one. | Parallel; all trees are trained independently. |\n",
    "| **Handling Errors**      | Focuses on residuals/errors from previous trees, correcting them iteratively. | Each tree is trained independently, with no focus on previous trees' errors. |\n",
    "| **Performance on Small Datasets** | Can be prone to overfitting on small datasets due to the sequential nature. | Performs well on small datasets due to the averaging process and reduced variance. |\n",
    "| **Computation Time**     | Slower to train due to the sequential nature of tree building. | Faster to train as trees are built independently in parallel. |\n"
   ]
  },
  {
   "cell_type": "markdown",
   "metadata": {
    "id": "IczqOX1crgkc"
   },
   "source": [
    "\n",
    "To conclude, Gradient Boosting and Random Forests differ in how they make the final forecast and their overall logic. In Gradient Boosting, models are built sequentially, with each new model trying to correct the errors of the previous one. The final forecast is made by combining all the models in a weighted way. The algorithm focuses on improving accuracy by addressing mistakes from earlier iterations. On the other hand, Random Forests build many decision trees independently, using random subsets of data and features. The final forecast is made by averaging the results of all the trees or taking a majority vote. The logic behind Random Forests is to combine many individual models to improve overall accuracy. This relies on the \"wisdom of crowds\" approach."
   ]
  }
 ],
 "metadata": {
  "colab": {
   "provenance": []
  },
  "kernelspec": {
   "display_name": "Python 3",
   "name": "python3"
  },
  "language_info": {
   "name": "python"
  }
 },
 "nbformat": 4,
 "nbformat_minor": 0
}
